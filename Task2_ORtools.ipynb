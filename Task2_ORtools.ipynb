{
  "nbformat": 4,
  "nbformat_minor": 0,
  "metadata": {
    "colab": {
      "name": "Task2-ORtools.ipynb",
      "provenance": [],
      "collapsed_sections": [],
      "authorship_tag": "ABX9TyP+716MCceI1HWAgdLEgBDw",
      "include_colab_link": true
    },
    "kernelspec": {
      "name": "python3",
      "display_name": "Python 3"
    },
    "language_info": {
      "name": "python"
    }
  },
  "cells": [
    {
      "cell_type": "markdown",
      "metadata": {
        "id": "view-in-github",
        "colab_type": "text"
      },
      "source": [
        "<a href=\"https://colab.research.google.com/github/amirineni231/Operational-Research/blob/main/Task2_ORtools.ipynb\" target=\"_parent\"><img src=\"https://colab.research.google.com/assets/colab-badge.svg\" alt=\"Open In Colab\"/></a>"
      ]
    },
    {
      "cell_type": "code",
      "metadata": {
        "colab": {
          "base_uri": "https://localhost:8080/"
        },
        "id": "wPKD42fxWCAz",
        "outputId": "3f9ee87d-d04a-4d32-f542-e79523f812e4"
      },
      "source": [
        "!pip install ortools"
      ],
      "execution_count": 1,
      "outputs": [
        {
          "output_type": "stream",
          "text": [
            "Collecting ortools\n",
            "  Downloading ortools-9.0.9048-cp37-cp37m-manylinux1_x86_64.whl (14.4 MB)\n",
            "\u001b[K     |████████████████████████████████| 14.4 MB 96 kB/s \n",
            "\u001b[?25hRequirement already satisfied: absl-py>=0.11 in /usr/local/lib/python3.7/dist-packages (from ortools) (0.12.0)\n",
            "Requirement already satisfied: protobuf>=3.15.8 in /usr/local/lib/python3.7/dist-packages (from ortools) (3.17.3)\n",
            "Requirement already satisfied: six in /usr/local/lib/python3.7/dist-packages (from absl-py>=0.11->ortools) (1.15.0)\n",
            "Installing collected packages: ortools\n",
            "Successfully installed ortools-9.0.9048\n"
          ],
          "name": "stdout"
        }
      ]
    },
    {
      "cell_type": "code",
      "metadata": {
        "id": "6aMrnS2IWF_4"
      },
      "source": [
        "from ortools.linear_solver import pywraplp"
      ],
      "execution_count": 2,
      "outputs": []
    },
    {
      "cell_type": "code",
      "metadata": {
        "colab": {
          "base_uri": "https://localhost:8080/"
        },
        "id": "B5jM0VInWAMQ",
        "outputId": "880da76a-9090-479d-f965-7000dc089cf9"
      },
      "source": [
        "def IntegerProgrammingProblem():\n",
        "  solver = pywraplp.Solver.CreateSolver('SCIP')\n",
        "\n",
        "    # x, y, and z are non-negative integer variables.\n",
        "  x = solver.IntVar(0.0, solver.infinity(), 'x')\n",
        "  y = solver.IntVar(0.0, solver.infinity(), 'y')\n",
        "   \n",
        "    # 0.5*x + 1*y <= 50\n",
        "  constraint0 = solver.Constraint(-solver.infinity(), 30)\n",
        "  constraint0.SetCoefficient(x, 0.5)\n",
        "  constraint0.SetCoefficient(y, 1)\n",
        "  \n",
        "    # 1*x - 2.5*y <= 60\n",
        "  constraint1 = solver.Constraint(-solver.infinity(), 60)\n",
        "  constraint1.SetCoefficient(x, 1)\n",
        "  constraint1.SetCoefficient(y, 2.5)\n",
        "\n",
        "    # 1*x + 2*y <= 22\n",
        "  constraint2 = solver.Constraint(-solver.infinity(), 22)\n",
        "  constraint2.SetCoefficient(x, 1)\n",
        "  constraint2.SetCoefficient(y, 2)\n",
        "\n",
        "    # Maximize 20*x + 40*y\n",
        "  objective = solver.Objective()\n",
        "  objective.SetCoefficient(x, 20)\n",
        "  objective.SetCoefficient(y, 40)\n",
        "  objective.SetMaximization()\n",
        "\n",
        "  solver.Solve()\n",
        "  print('Maximum objective function value = %d' % solver.Objective().Value())\n",
        "  print()\n",
        "  for variable in [x, y]:\n",
        "       print('%s = %d' % (variable.name(), variable.solution_value()))\n",
        "\n",
        "\n",
        "IntegerProgrammingProblem()"
      ],
      "execution_count": 3,
      "outputs": [
        {
          "output_type": "stream",
          "text": [
            "Maximum objective function value = 440\n",
            "\n",
            "x = 22\n",
            "y = 0\n"
          ],
          "name": "stdout"
        }
      ]
    }
  ]
}