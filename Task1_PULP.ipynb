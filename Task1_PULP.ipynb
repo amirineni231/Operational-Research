{
  "nbformat": 4,
  "nbformat_minor": 0,
  "metadata": {
    "colab": {
      "name": "Task1-PULP.ipynb",
      "provenance": [],
      "collapsed_sections": [],
      "authorship_tag": "ABX9TyOaXfhUCHfWkj1Jw8+7yH/N",
      "include_colab_link": true
    },
    "kernelspec": {
      "name": "python3",
      "display_name": "Python 3"
    },
    "language_info": {
      "name": "python"
    }
  },
  "cells": [
    {
      "cell_type": "markdown",
      "metadata": {
        "id": "view-in-github",
        "colab_type": "text"
      },
      "source": [
        "<a href=\"https://colab.research.google.com/github/amirineni231/Operational-Research/blob/main/Task1_PULP.ipynb\" target=\"_parent\"><img src=\"https://colab.research.google.com/assets/colab-badge.svg\" alt=\"Open In Colab\"/></a>"
      ]
    },
    {
      "cell_type": "code",
      "metadata": {
        "colab": {
          "base_uri": "https://localhost:8080/"
        },
        "id": "c_qXV6AWPnV4",
        "outputId": "dc02fc20-ba56-4100-bbe2-3c31a0016d22"
      },
      "source": [
        "!pip install pulp"
      ],
      "execution_count": 1,
      "outputs": [
        {
          "output_type": "stream",
          "text": [
            "Collecting pulp\n",
            "  Downloading PuLP-2.4-py3-none-any.whl (40.6 MB)\n",
            "\u001b[K     |████████████████████████████████| 40.6 MB 32 kB/s \n",
            "\u001b[?25hCollecting amply>=0.1.2\n",
            "  Downloading amply-0.1.4-py3-none-any.whl (16 kB)\n",
            "Requirement already satisfied: docutils>=0.3 in /usr/local/lib/python3.7/dist-packages (from amply>=0.1.2->pulp) (0.17.1)\n",
            "Requirement already satisfied: pyparsing in /usr/local/lib/python3.7/dist-packages (from amply>=0.1.2->pulp) (2.4.7)\n",
            "Installing collected packages: amply, pulp\n",
            "Successfully installed amply-0.1.4 pulp-2.4\n"
          ],
          "name": "stdout"
        }
      ]
    },
    {
      "cell_type": "code",
      "metadata": {
        "id": "O5utIVq-PrCm"
      },
      "source": [
        "import pulp as pl\n",
        "from pulp import *"
      ],
      "execution_count": 4,
      "outputs": []
    },
    {
      "cell_type": "code",
      "metadata": {
        "colab": {
          "base_uri": "https://localhost:8080/"
        },
        "id": "5nAqN5DSPvcE",
        "outputId": "99f97cd8-bc52-4246-c620-fb9dbaed55c7"
      },
      "source": [
        "model = LpProblem('MaxBakeryProfits', pl.LpMaximize)\n",
        "\n",
        "A = pl.LpVariable('A', lowBound=0, cat='Integer')\n",
        "B = pl.LpVariable('B', lowBound=0, cat='Integer')\n",
        "\n",
        "model += 20*A + 40*B\n",
        "\n",
        "model += 0.5*A + 1*B <= 30\n",
        "model += 1*A + 2.5*B <= 60\n",
        "model += 1*A + 2*B <= 22\n",
        "\n",
        "model.solve()\n",
        "\n",
        "print('value of A = {}'.format(A.varValue))\n",
        "print('value of B = {}'.format(B.varValue))"
      ],
      "execution_count": 7,
      "outputs": [
        {
          "output_type": "stream",
          "text": [
            "value of A = 0.0\n",
            "value of B = 11.0\n"
          ],
          "name": "stdout"
        }
      ]
    }
  ]
}